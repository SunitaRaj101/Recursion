{
 "cells": [
  {
   "cell_type": "code",
   "execution_count": 3,
   "id": "292b521f",
   "metadata": {},
   "outputs": [
    {
     "name": "stdout",
     "output_type": "stream",
     "text": [
      "10\n",
      "9\n",
      "8\n",
      "7\n",
      "6\n",
      "5\n",
      "4\n",
      "3\n",
      "2\n",
      "1\n"
     ]
    }
   ],
   "source": [
    "#from n to 1\n",
    "def fn(n):\n",
    "    if n==0:\n",
    "        return \n",
    "    print(n)\n",
    "    fn(n-1)\n",
    "fn(10)"
   ]
  },
  {
   "cell_type": "code",
   "execution_count": 5,
   "id": "abf11ddf",
   "metadata": {},
   "outputs": [
    {
     "name": "stdout",
     "output_type": "stream",
     "text": [
      "1\n",
      "2\n",
      "3\n",
      "4\n",
      "5\n",
      "6\n",
      "7\n",
      "8\n",
      "9\n",
      "10\n"
     ]
    }
   ],
   "source": [
    "def fn(n):\n",
    "    if n==0:\n",
    "        return \n",
    "    fn(n-1)\n",
    "    print(n)\n",
    "fn(10)"
   ]
  },
  {
   "cell_type": "code",
   "execution_count": 7,
   "id": "47b60536",
   "metadata": {},
   "outputs": [
    {
     "data": {
      "text/plain": [
       "120"
      ]
     },
     "execution_count": 7,
     "metadata": {},
     "output_type": "execute_result"
    }
   ],
   "source": [
    "def fact(n):\n",
    "    if n==0:\n",
    "        return 1\n",
    "    return n*fact(n-1)\n",
    "fact(5)"
   ]
  },
  {
   "cell_type": "code",
   "execution_count": 9,
   "id": "a807637d",
   "metadata": {},
   "outputs": [
    {
     "data": {
      "text/plain": [
       "1"
      ]
     },
     "execution_count": 9,
     "metadata": {},
     "output_type": "execute_result"
    }
   ],
   "source": [
    "def fab(n):\n",
    "    if n<=1:\n",
    "        return n\n",
    "    return fab(n-1)+fab(n-2)\n",
    "fab(2)"
   ]
  },
  {
   "cell_type": "code",
   "execution_count": 11,
   "id": "ddd47fbe",
   "metadata": {},
   "outputs": [
    {
     "data": {
      "text/plain": [
       "55"
      ]
     },
     "execution_count": 11,
     "metadata": {},
     "output_type": "execute_result"
    }
   ],
   "source": [
    "#sun of n natural nos\n",
    "def sumofnaturalno(n):\n",
    "    if n==1:\n",
    "        return 1\n",
    "    return sumofnaturalno(n-1)+n\n",
    "sumofnaturalno(10)"
   ]
  },
  {
   "cell_type": "code",
   "execution_count": 16,
   "id": "bfa022b2",
   "metadata": {},
   "outputs": [
    {
     "data": {
      "text/plain": [
       "True"
      ]
     },
     "execution_count": 16,
     "metadata": {},
     "output_type": "execute_result"
    }
   ],
   "source": [
    "#check string palindrom or not\n",
    "def palindrom(s,start,end):\n",
    "    if start>=end:\n",
    "        return True\n",
    "    return s[start]==s[end] and palindrom(s,start+1,end-1)\n",
    "palindrom('aabaa',0,4)"
   ]
  },
  {
   "cell_type": "code",
   "execution_count": 3,
   "id": "b6c160f5",
   "metadata": {},
   "outputs": [
    {
     "data": {
      "text/plain": [
       "11"
      ]
     },
     "execution_count": 3,
     "metadata": {},
     "output_type": "execute_result"
    }
   ],
   "source": [
    "def sumofdigits(n):\n",
    "    if n==0:\n",
    "        return 0\n",
    "    return n%10+sumofdigits(n//10)\n",
    "sumofdigits(245)\n",
    "##Instead of recursive approach we use interative one because of low overhead, in recursive it generate overhead because of\n",
    "#calling fun again and again"
   ]
  },
  {
   "cell_type": "code",
   "execution_count": 13,
   "id": "6c91ebe1",
   "metadata": {},
   "outputs": [
    {
     "data": {
      "text/plain": [
       "5"
      ]
     },
     "execution_count": 13,
     "metadata": {},
     "output_type": "execute_result"
    }
   ],
   "source": [
    "def ropecutting(n,a,b,c):\n",
    "    if n==0 :\n",
    "        return 0\n",
    "    if n<0:\n",
    "        return -1\n",
    "    res=max(ropecutting(n-a,a,b,c),ropecutting(n-b,a,b,c),ropecutting(n-c,a,b,c))\n",
    "    if res==-1:\n",
    "        return -1\n",
    "    return res+1\n",
    "ropecutting(10,2,2,2)"
   ]
  },
  {
   "cell_type": "code",
   "execution_count": 2,
   "id": "40f17add",
   "metadata": {},
   "outputs": [
    {
     "name": "stdout",
     "output_type": "stream",
     "text": [
      "\n",
      "c\n",
      "b\n",
      "bc\n",
      "a\n",
      "ac\n",
      "ab\n",
      "abc\n"
     ]
    }
   ],
   "source": [
    "#subsets\n",
    "def fun(s,i,n,curr):\n",
    "    if i==n:\n",
    "        print(curr)\n",
    "        return\n",
    "    fun(s,i+1,n,curr)\n",
    "    fun(s,i+1,n,curr+s[i])\n",
    "fun('abc',0,3,'')"
   ]
  },
  {
   "cell_type": "code",
   "execution_count": 3,
   "id": "5aaa29f4",
   "metadata": {},
   "outputs": [
    {
     "name": "stdout",
     "output_type": "stream",
     "text": [
      "move n from a->b\n",
      "move n from a->c\n",
      "move n from b->c\n",
      "move n from a->b\n",
      "move n from c->a\n",
      "move n from c->b\n",
      "move n from a->b\n",
      "move n from a->c\n",
      "move n from b->c\n",
      "move n from b->a\n",
      "move n from c->a\n",
      "move n from b->c\n",
      "move n from a->b\n",
      "move n from a->c\n",
      "move n from b->c\n"
     ]
    }
   ],
   "source": [
    "#TOH\n",
    "def toh(n,a,b,c):\n",
    "    if n==1:\n",
    "        print(f'move n from {a}->{c}')\n",
    "        return \n",
    "    toh(n-1,a,c,b)\n",
    "    print(f'move n from {a}->{c}')\n",
    "    toh(n-1,b,a,c)\n",
    "toh(4,'a','b','c')"
   ]
  },
  {
   "cell_type": "code",
   "execution_count": 29,
   "id": "a5415c61",
   "metadata": {},
   "outputs": [
    {
     "data": {
      "text/plain": [
       "0"
      ]
     },
     "execution_count": 29,
     "metadata": {},
     "output_type": "execute_result"
    }
   ],
   "source": [
    "#Joseph problem - kill evey kth person from circle and give that person's exact location\n",
    "def joseph(n,k):\n",
    "    if n==1:\n",
    "        return 0\n",
    "    return (joseph(n-1,k)+k)%n\n",
    "joseph(4,3)"
   ]
  },
  {
   "cell_type": "code",
   "execution_count": 23,
   "id": "50f5322c",
   "metadata": {},
   "outputs": [
    {
     "data": {
      "text/plain": [
       "2"
      ]
     },
     "execution_count": 23,
     "metadata": {},
     "output_type": "execute_result"
    }
   ],
   "source": [
    "#Subset sum problem\n",
    "def fun(arr,n,sum):\n",
    "    if n==0:\n",
    "        if sum==0:\n",
    "            return 1\n",
    "        else:\n",
    "            return 0\n",
    "    return fun(arr,n-1,sum)+fun(arr,n-1,sum-arr[n-1])\n",
    "fun([10,5,2,3,6],5,8)"
   ]
  },
  {
   "cell_type": "code",
   "execution_count": 8,
   "id": "20e1c1be",
   "metadata": {},
   "outputs": [
    {
     "name": "stdout",
     "output_type": "stream",
     "text": [
      "['a', 'b', 'c']\n",
      "['a', 'c', 'b']\n",
      "['b', 'a', 'c']\n",
      "['b', 'c', 'a']\n",
      "['c', 'b', 'a']\n",
      "['c', 'a', 'b']\n"
     ]
    }
   ],
   "source": [
    "#for finding all permutations\n",
    "def permutation(a,i=0):\n",
    "    if i==len(a)-1:\n",
    "        print(a)\n",
    "        return \n",
    "    for j in range(i,len(a)):\n",
    "        a[i],a[j]=a[j],a[i]\n",
    "        permutation(a,i+1)\n",
    "        a[i],a[j]=a[j],a[i]\n",
    "permutation(['a','b','c'],0)"
   ]
  },
  {
   "cell_type": "code",
   "execution_count": 16,
   "id": "992449e5",
   "metadata": {},
   "outputs": [
    {
     "name": "stdout",
     "output_type": "stream",
     "text": [
      "('a', 'b', 'c')\n",
      "('a', 'c', 'b')\n",
      "('b', 'a', 'c')\n",
      "('b', 'c', 'a')\n",
      "('c', 'a', 'b')\n",
      "('c', 'b', 'a')\n"
     ]
    }
   ],
   "source": [
    "#We can done above thing using itertools package too\n",
    "\n",
    "from itertools import permutations\n",
    "a=permutations('abc',3)\n",
    "for i in a:\n",
    "    print(i)"
   ]
  },
  {
   "cell_type": "code",
   "execution_count": 14,
   "id": "8870df07",
   "metadata": {},
   "outputs": [
    {
     "name": "stdout",
     "output_type": "stream",
     "text": [
      "(0, 1, 2)\n",
      "(0, 1, 3)\n",
      "(0, 1, 4)\n",
      "(0, 2, 3)\n",
      "(0, 2, 4)\n",
      "(0, 3, 4)\n",
      "(1, 2, 3)\n",
      "(1, 2, 4)\n",
      "(1, 3, 4)\n",
      "(2, 3, 4)\n"
     ]
    }
   ],
   "source": [
    "from itertools import combinations\n",
    "a=combinations(range(5),3)\n",
    "for i in a:\n",
    "    print(i)"
   ]
  },
  {
   "cell_type": "code",
   "execution_count": 107,
   "id": "85e73298",
   "metadata": {},
   "outputs": [],
   "source": [
    "class Solution:\n",
    "    def myAtoi(self, s: str) -> int:\n",
    "        return self.q1(s,0,0,1)\n",
    "    def q1(self,s,i,val,sign):\n",
    "        if i>=len(s):\n",
    "            return self.q3(val,sign)\n",
    "        if s[i]==' ':\n",
    "            return self.q1(s,i+1,val,sign)\n",
    "        elif s[i]=='-':\n",
    "            return self.q2(s,i+1,val,-1)\n",
    "        elif s[i]=='+':\n",
    "            return self.q2(s,i+1,val,1)\n",
    "        elif s[i].isdecimal():\n",
    "            return self.q2(s,i+1,val*10+int(s[i]),sign)\n",
    "        return self.q3(val,sign)\n",
    "    def q2(self,s,i,val,sign):\n",
    "        if i>=len(s):\n",
    "            return self.q3(val,sign)\n",
    "        if s[i].isdecimal():\n",
    "            return self.q2(s,i+1,val*10+int(s[i]),sign)\n",
    "        return self.q3(val,sign)\n",
    "    def q3(self,val,sign):\n",
    "        val=sign*val\n",
    "        bound=2**31\n",
    "        if val<=-bound:\n",
    "            return -bound\n",
    "        elif val>=bound:\n",
    "            return bound-1\n",
    "        else:\n",
    "            return val"
   ]
  },
  {
   "cell_type": "code",
   "execution_count": 4,
   "id": "4e10d9f0",
   "metadata": {},
   "outputs": [
    {
     "data": {
      "text/plain": [
       "4.0"
      ]
     },
     "execution_count": 4,
     "metadata": {},
     "output_type": "execute_result"
    }
   ],
   "source": [
    "    def myPow(x,n):\n",
    "        def power(x,n):\n",
    "            if n==0:\n",
    "                return 1.0\n",
    "            if n%2==0:\n",
    "                return power(x,n//2)*power(x,n//2)\n",
    "            else:\n",
    "                return power(x,n-1)*x\n",
    "        if n<0:\n",
    "            return power(1/x,-n)\n",
    "        else:\n",
    "            return power(x,n)\n",
    "myPow(-2,2)"
   ]
  },
  {
   "cell_type": "code",
   "execution_count": 2,
   "id": "3f0c27d9",
   "metadata": {},
   "outputs": [
    {
     "data": {
      "text/plain": [
       "-400"
      ]
     },
     "execution_count": 2,
     "metadata": {},
     "output_type": "execute_result"
    }
   ],
   "source": [
    "import math\n",
    "math.prod([10,20,-2])"
   ]
  },
  {
   "cell_type": "code",
   "execution_count": 105,
   "id": "ace9dc36",
   "metadata": {},
   "outputs": [
    {
     "data": {
      "text/plain": [
       "2147483648"
      ]
     },
     "execution_count": 105,
     "metadata": {},
     "output_type": "execute_result"
    }
   ],
   "source": [
    "2**31\n"
   ]
  },
  {
   "cell_type": "code",
   "execution_count": 41,
   "id": "850499fd",
   "metadata": {},
   "outputs": [
    {
     "name": "stdout",
     "output_type": "stream",
     "text": [
      "7 100\n",
      "6 100\n",
      "5 100\n",
      "4 100\n",
      "3 100\n",
      "2 100\n",
      "1 100\n",
      "0 100\n",
      "0 10.0\n",
      "1 5.0\n",
      "0 5.0\n",
      "0 0.5\n",
      "2 2.5\n",
      "1 2.5\n",
      "0 2.5\n",
      "0 0.25\n",
      "1 0.125\n",
      "0 0.125\n",
      "0 0.0125\n",
      "3 2.0\n",
      "2 2.0\n",
      "1 2.0\n",
      "0 2.0\n",
      "0 0.2\n",
      "1 0.1\n",
      "0 0.1\n",
      "0 0.01\n",
      "2 0.05\n",
      "1 0.05\n",
      "0 0.05\n",
      "0 0.005\n",
      "1 0.0025\n",
      "0 0.0025\n",
      "0 0.00025\n",
      "4 1.6666666666666667\n",
      "3 1.6666666666666667\n",
      "2 1.6666666666666667\n",
      "1 1.6666666666666667\n",
      "0 1.6666666666666667\n",
      "0 0.16666666666666669\n",
      "1 0.08333333333333334\n",
      "0 0.08333333333333334\n",
      "0 0.008333333333333335\n",
      "2 0.04166666666666667\n",
      "1 0.04166666666666667\n",
      "0 0.04166666666666667\n",
      "0 0.0041666666666666675\n",
      "1 0.0020833333333333337\n",
      "0 0.0020833333333333337\n",
      "0 0.00020833333333333337\n",
      "3 0.03333333333333333\n",
      "2 0.03333333333333333\n",
      "1 0.03333333333333333\n",
      "0 0.03333333333333333\n",
      "0 0.003333333333333333\n",
      "1 0.0016666666666666666\n",
      "0 0.0016666666666666666\n",
      "0 0.00016666666666666666\n",
      "2 0.0008333333333333333\n",
      "1 0.0008333333333333333\n",
      "0 0.0008333333333333333\n",
      "0 8.333333333333333e-05\n",
      "1 4.1666666666666665e-05\n",
      "0 4.1666666666666665e-05\n",
      "0 4.166666666666667e-06\n",
      "5 3.3333333333333335\n",
      "4 3.3333333333333335\n",
      "3 3.3333333333333335\n",
      "2 3.3333333333333335\n",
      "1 3.3333333333333335\n",
      "0 3.3333333333333335\n",
      "0 0.33333333333333337\n",
      "1 0.16666666666666669\n",
      "0 0.16666666666666669\n",
      "0 0.01666666666666667\n",
      "2 0.08333333333333334\n",
      "1 0.08333333333333334\n",
      "0 0.08333333333333334\n",
      "0 0.008333333333333335\n",
      "1 0.0041666666666666675\n",
      "0 0.0041666666666666675\n",
      "0 0.00041666666666666675\n",
      "3 0.06666666666666667\n",
      "2 0.06666666666666667\n",
      "1 0.06666666666666667\n",
      "0 0.06666666666666667\n",
      "0 0.006666666666666666\n",
      "1 0.003333333333333333\n",
      "0 0.003333333333333333\n",
      "0 0.0003333333333333333\n",
      "2 0.0016666666666666666\n",
      "1 0.0016666666666666666\n",
      "0 0.0016666666666666666\n",
      "0 0.00016666666666666666\n",
      "1 8.333333333333333e-05\n",
      "0 8.333333333333333e-05\n",
      "0 8.333333333333334e-06\n",
      "4 0.05555555555555556\n",
      "3 0.05555555555555556\n",
      "2 0.05555555555555556\n",
      "1 0.05555555555555556\n",
      "0 0.05555555555555556\n",
      "0 0.005555555555555556\n",
      "1 0.002777777777777778\n",
      "0 0.002777777777777778\n",
      "0 0.0002777777777777778\n",
      "2 0.001388888888888889\n",
      "1 0.001388888888888889\n",
      "0 0.001388888888888889\n",
      "0 0.0001388888888888889\n",
      "1 6.944444444444444e-05\n",
      "0 6.944444444444444e-05\n",
      "0 6.944444444444445e-06\n",
      "3 0.0011111111111111111\n",
      "2 0.0011111111111111111\n",
      "1 0.0011111111111111111\n",
      "0 0.0011111111111111111\n",
      "0 0.00011111111111111112\n",
      "1 5.555555555555556e-05\n",
      "0 5.555555555555556e-05\n",
      "0 5.555555555555556e-06\n",
      "2 2.777777777777778e-05\n",
      "1 2.777777777777778e-05\n",
      "0 2.777777777777778e-05\n",
      "0 2.777777777777778e-06\n",
      "1 1.388888888888889e-06\n",
      "0 1.388888888888889e-06\n",
      "0 1.388888888888889e-07\n",
      "6 1.1111111111111112\n",
      "5 1.1111111111111112\n",
      "4 1.1111111111111112\n",
      "3 1.1111111111111112\n",
      "2 1.1111111111111112\n",
      "1 1.1111111111111112\n",
      "0 1.1111111111111112\n",
      "0 0.11111111111111112\n",
      "1 0.05555555555555556\n",
      "0 0.05555555555555556\n",
      "0 0.005555555555555556\n",
      "2 0.02777777777777778\n",
      "1 0.02777777777777778\n",
      "0 0.02777777777777778\n",
      "0 0.002777777777777778\n",
      "1 0.001388888888888889\n",
      "0 0.001388888888888889\n",
      "0 0.0001388888888888889\n",
      "3 0.022222222222222223\n",
      "2 0.022222222222222223\n",
      "1 0.022222222222222223\n",
      "0 0.022222222222222223\n",
      "0 0.0022222222222222222\n",
      "1 0.0011111111111111111\n",
      "0 0.0011111111111111111\n",
      "0 0.00011111111111111112\n",
      "2 0.0005555555555555556\n",
      "1 0.0005555555555555556\n",
      "0 0.0005555555555555556\n",
      "0 5.555555555555556e-05\n",
      "1 2.777777777777778e-05\n",
      "0 2.777777777777778e-05\n",
      "0 2.777777777777778e-06\n",
      "4 0.01851851851851852\n",
      "3 0.01851851851851852\n",
      "2 0.01851851851851852\n",
      "1 0.01851851851851852\n",
      "0 0.01851851851851852\n",
      "0 0.0018518518518518521\n",
      "1 0.0009259259259259261\n",
      "0 0.0009259259259259261\n",
      "0 9.25925925925926e-05\n",
      "2 0.00046296296296296303\n",
      "1 0.00046296296296296303\n",
      "0 0.00046296296296296303\n",
      "0 4.62962962962963e-05\n",
      "1 2.314814814814815e-05\n",
      "0 2.314814814814815e-05\n",
      "0 2.314814814814815e-06\n",
      "3 0.0003703703703703704\n",
      "2 0.0003703703703703704\n",
      "1 0.0003703703703703704\n",
      "0 0.0003703703703703704\n",
      "0 3.703703703703704e-05\n",
      "1 1.851851851851852e-05\n",
      "0 1.851851851851852e-05\n",
      "0 1.851851851851852e-06\n",
      "2 9.25925925925926e-06\n",
      "1 9.25925925925926e-06\n",
      "0 9.25925925925926e-06\n",
      "0 9.25925925925926e-07\n",
      "1 4.62962962962963e-07\n",
      "0 4.62962962962963e-07\n",
      "0 4.62962962962963e-08\n",
      "5 0.03703703703703704\n",
      "4 0.03703703703703704\n",
      "3 0.03703703703703704\n",
      "2 0.03703703703703704\n",
      "1 0.03703703703703704\n",
      "0 0.03703703703703704\n",
      "0 0.0037037037037037043\n",
      "1 0.0018518518518518521\n",
      "0 0.0018518518518518521\n",
      "0 0.0001851851851851852\n",
      "2 0.0009259259259259261\n",
      "1 0.0009259259259259261\n",
      "0 0.0009259259259259261\n",
      "0 9.25925925925926e-05\n",
      "1 4.62962962962963e-05\n",
      "0 4.62962962962963e-05\n",
      "0 4.62962962962963e-06\n",
      "3 0.0007407407407407408\n",
      "2 0.0007407407407407408\n",
      "1 0.0007407407407407408\n",
      "0 0.0007407407407407408\n",
      "0 7.407407407407409e-05\n",
      "1 3.703703703703704e-05\n",
      "0 3.703703703703704e-05\n",
      "0 3.703703703703704e-06\n",
      "2 1.851851851851852e-05\n",
      "1 1.851851851851852e-05\n",
      "0 1.851851851851852e-05\n",
      "0 1.851851851851852e-06\n",
      "1 9.25925925925926e-07\n",
      "0 9.25925925925926e-07\n",
      "0 9.25925925925926e-08\n",
      "4 0.000617283950617284\n",
      "3 0.000617283950617284\n",
      "2 0.000617283950617284\n",
      "1 0.000617283950617284\n",
      "0 0.000617283950617284\n",
      "0 6.172839506172841e-05\n",
      "1 3.0864197530864205e-05\n",
      "0 3.0864197530864205e-05\n",
      "0 3.0864197530864204e-06\n",
      "2 1.5432098765432103e-05\n",
      "1 1.5432098765432103e-05\n",
      "0 1.5432098765432103e-05\n",
      "0 1.5432098765432102e-06\n",
      "1 7.716049382716051e-07\n",
      "0 7.716049382716051e-07\n",
      "0 7.716049382716051e-08\n",
      "3 1.2345679012345682e-05\n",
      "2 1.2345679012345682e-05\n",
      "1 1.2345679012345682e-05\n",
      "0 1.2345679012345682e-05\n",
      "0 1.2345679012345681e-06\n",
      "1 6.172839506172841e-07\n",
      "0 6.172839506172841e-07\n",
      "0 6.172839506172841e-08\n",
      "2 3.0864197530864203e-07\n",
      "1 3.0864197530864203e-07\n",
      "0 3.0864197530864203e-07\n",
      "0 3.0864197530864206e-08\n",
      "1 1.5432098765432103e-08\n",
      "0 1.5432098765432103e-08\n",
      "0 1.5432098765432103e-09\n"
     ]
    },
    {
     "data": {
      "text/plain": [
       "0"
      ]
     },
     "execution_count": 41,
     "metadata": {},
     "output_type": "execute_result"
    }
   ],
   "source": [
    "def fun(arr,n,mult):\n",
    "    print(n,mult)\n",
    "    if n==0:\n",
    "#         print(mult)\n",
    "        if mult==1.0:\n",
    "            return 1\n",
    "        else:\n",
    "            return 0\n",
    "    return fun(arr,n-1,mult)+fun(arr,n-1,mult/arr[n-1])\n",
    "fun([10,20,40,50,60,30,90],7,100)"
   ]
  },
  {
   "cell_type": "code",
   "execution_count": 47,
   "id": "11c49c65",
   "metadata": {},
   "outputs": [
    {
     "data": {
      "text/plain": [
       "True"
      ]
     },
     "execution_count": 47,
     "metadata": {},
     "output_type": "execute_result"
    }
   ],
   "source": [
    "def valid(i,n):\n",
    "    primes=[2,3,5,7]\n",
    "    while i!=0:\n",
    "        if n%2==0:\n",
    "            if (i%10)%2!=0:\n",
    "                return False\n",
    "            i=i//10\n",
    "            n-=1\n",
    "        else:\n",
    "            if i%10 not in primes:\n",
    "                return False\n",
    "            i-i//10\n",
    "            n-=1\n",
    "        return True\n",
    "valid(2,1)"
   ]
  },
  {
   "cell_type": "code",
   "execution_count": 4,
   "id": "ca8f9b8e",
   "metadata": {},
   "outputs": [
    {
     "data": {
      "text/plain": [
       "[4, 3, 2, 1]"
      ]
     },
     "execution_count": 4,
     "metadata": {},
     "output_type": "execute_result"
    }
   ],
   "source": [
    "    def insert(st,element):\n",
    "        if st==[]:\n",
    "            st.append(element)\n",
    "        else:\n",
    "            \n",
    "            temp=st.pop()\n",
    "            insert(st,element)\n",
    "            st.append(temp)\n",
    "    def reverse(st): \n",
    "        if st!=[]:\n",
    "            temp=st.pop()\n",
    "#             print(temp)\n",
    "            reverse(st)\n",
    "#             print(temp)\n",
    "            insert(st,temp)\n",
    "        return st\n",
    "reverse([1,2,3,4])"
   ]
  },
  {
   "cell_type": "code",
   "execution_count": 7,
   "id": "cee35ceb",
   "metadata": {},
   "outputs": [
    {
     "data": {
      "text/plain": [
       "['000', '001', '010', '011', '100', '101', '110', '111']"
      ]
     },
     "execution_count": 7,
     "metadata": {},
     "output_type": "execute_result"
    }
   ],
   "source": [
    "def generate(n):\n",
    "    ans=[]\n",
    "    for i in range(2**3):\n",
    "        st=''\n",
    "        while i!=0:\n",
    "            if i&1==0:\n",
    "                st='0'+st\n",
    "            else:\n",
    "                st='1'+st\n",
    "            i=i>>1\n",
    "        if len(st)<n:\n",
    "            st='0'*(n-len(st))+st\n",
    "        ans.append(st)\n",
    "    return ans   \n",
    "generate(3)"
   ]
  },
  {
   "cell_type": "code",
   "execution_count": 9,
   "id": "96dcff2f",
   "metadata": {},
   "outputs": [
    {
     "name": "stdout",
     "output_type": "stream",
     "text": [
      "0000 0001 0010 0100 0101 1000 1001 1010 "
     ]
    }
   ],
   "source": [
    "#recursive\n",
    "def All_Binary_Strings(str,num):\n",
    "\n",
    "\tLen = len(str)\n",
    "\tif(Len == num):\n",
    "\t\tprint(str,end = \" \")\n",
    "\t\treturn\n",
    "\n",
    "\telif(str[Len - 1]=='1'):\n",
    "\t\tAll_Binary_Strings(str+'0',num)\n",
    "\telse:\n",
    "\t\tAll_Binary_Strings(str+'0',num)\n",
    "\t\tAll_Binary_Strings(str+'1',num)\n",
    "\n",
    "def Print(num):\n",
    "\n",
    "\tword = \"\"\n",
    "\tword += '0'\n",
    "\tAll_Binary_Strings(word,num)\n",
    "\tword = '1'\n",
    "\tAll_Binary_Strings(word,num)\n",
    "\n",
    "# Driver's code\n",
    "n = 4\n",
    "Print(n)\n",
    "\n",
    "# This code is contributed by shinjanpatra.\n"
   ]
  },
  {
   "cell_type": "code",
   "execution_count": 19,
   "id": "21c07c60",
   "metadata": {},
   "outputs": [
    {
     "name": "stdout",
     "output_type": "stream",
     "text": [
      "[] []\n",
      "[] []\n",
      "[] []\n",
      "[] []\n",
      "[[]] [3]\n",
      "[[], [3]] [2]\n",
      "[[], [3]] [2]\n",
      "[[], [3], [2]] [2, 3]\n",
      "[[], [3], [2], [2, 3]] [1]\n",
      "[[], [3], [2], [2, 3]] [1]\n",
      "[[], [3], [2], [2, 3]] [1]\n",
      "[[], [3], [2], [2, 3], [1]] [1, 3]\n",
      "[[], [3], [2], [2, 3], [1], [1, 3]] [1, 2]\n",
      "[[], [3], [2], [2, 3], [1], [1, 3]] [1, 2]\n",
      "[[], [3], [2], [2, 3], [1], [1, 3], [1, 2]] [1, 2, 3]\n",
      "[[], [3], [2], [2, 3], [1], [1, 3], [1, 2], [1, 2, 3]]\n"
     ]
    }
   ],
   "source": [
    "        l=[]\n",
    "        def subset(s,i,curr):\n",
    "            print(l,curr)\n",
    "            if i==len(s):\n",
    "                l.append(curr)\n",
    "                return\n",
    "            subset(s,i+1,curr)\n",
    "            subset(s,i+1,curr+[s[i]])\n",
    "        subset([1,2,3],0,[])\n",
    "        print(l)"
   ]
  },
  {
   "cell_type": "code",
   "execution_count": 34,
   "id": "49f71407",
   "metadata": {},
   "outputs": [
    {
     "name": "stdout",
     "output_type": "stream",
     "text": [
      "{'', 'fg', 'g', 'gf', 'gfg', 'f', 'gg'} {'', 'gg', 'ggg', 'g'}\n"
     ]
    },
    {
     "data": {
      "text/plain": [
       "set"
      ]
     },
     "execution_count": 34,
     "metadata": {},
     "output_type": "execute_result"
    }
   ],
   "source": [
    "        l1=set()\n",
    "        l2=set()\n",
    "        def subsets(s1,s2,i,curr1,curr2):\n",
    "            if i==len(s1):\n",
    "                l1.add(curr1)\n",
    "                l2.add(curr2)\n",
    "                return\n",
    "            subsets(s1,s2,i+1,curr1,curr2)\n",
    "            subsets(s1,s2,i+1,curr1+s1[i],curr2+s2[i])\n",
    "        subsets('gfg','ggg',0,'','')\n",
    "        print(l1,l2)\n",
    "        type(l1)"
   ]
  },
  {
   "cell_type": "code",
   "execution_count": 69,
   "id": "e29b39d9",
   "metadata": {},
   "outputs": [
    {
     "data": {
      "text/plain": [
       "[[2, 2, 3], [7]]"
      ]
     },
     "execution_count": 69,
     "metadata": {},
     "output_type": "execute_result"
    }
   ],
   "source": []
  },
  {
   "cell_type": "code",
   "execution_count": 31,
   "id": "2447fb25",
   "metadata": {},
   "outputs": [
    {
     "name": "stdout",
     "output_type": "stream",
     "text": [
      "[2, 3]\n",
      "[1, 3]\n",
      "yes\n",
      "[1, 2]\n",
      "[1, 2, 3]\n",
      "yes\n"
     ]
    },
    {
     "data": {
      "text/plain": [
       "1"
      ]
     },
     "execution_count": 31,
     "metadata": {},
     "output_type": "execute_result"
    }
   ],
   "source": [
    "def subsets(i,curr,arr,count):\n",
    "    if i==len(arr):\n",
    "        if len(curr)>=2:\n",
    "            print(curr)\n",
    "            if (curr[0]+curr[-1])%2==0:\n",
    "                print('yes')\n",
    "                count+=1\n",
    "        return\n",
    "    subsets(i+1,curr,arr,count)\n",
    "    subsets(i+1,curr+[arr[i]],arr,count)\n",
    "    return count\n",
    "subsets(0,[],[1,2,3],1)"
   ]
  },
  {
   "cell_type": "code",
   "execution_count": 17,
   "id": "6f60f777",
   "metadata": {},
   "outputs": [
    {
     "data": {
      "text/plain": [
       "2"
      ]
     },
     "execution_count": 17,
     "metadata": {},
     "output_type": "execute_result"
    }
   ],
   "source": [
    "#Subset sum problem\n",
    "def fun(arr,n,sum):\n",
    "    if n==0:\n",
    "        if sum==0:\n",
    "            return 1\n",
    "        else:\n",
    "            return 0\n",
    "    return fun(arr,n-1,sum)+fun(arr,n-1,sum-arr[n-1])\n",
    "fun([10,5,2,3,6],5,8)"
   ]
  },
  {
   "cell_type": "code",
   "execution_count": 22,
   "id": "be25931b",
   "metadata": {},
   "outputs": [
    {
     "data": {
      "text/plain": [
       "1000000007.0"
      ]
     },
     "execution_count": 22,
     "metadata": {},
     "output_type": "execute_result"
    }
   ],
   "source": [
    "10e8+7"
   ]
  },
  {
   "cell_type": "code",
   "execution_count": 2,
   "id": "bf52876a",
   "metadata": {},
   "outputs": [
    {
     "name": "stdout",
     "output_type": "stream",
     "text": [
      "['D', 'R', 'R']\n",
      "['R', 'D', 'R']\n",
      "['R', 'R', 'D']\n"
     ]
    }
   ],
   "source": [
    "##=Rate in a Maze\n",
    "def matrix(a,b,ds,m,n,count):\n",
    "    if a>m or b>n:\n",
    "        return\n",
    "    if a==m and b==n:\n",
    "        count+=1\n",
    "        print(ds)\n",
    "        return\n",
    "    ds.append('D')\n",
    "    matrix(a+1,b,ds,m,n,count)\n",
    "    ds.pop()\n",
    "    \n",
    "    ds.append('R')\n",
    "    matrix(a,b+1,ds,m,n,count)\n",
    "    ds.pop()\n",
    "    \n",
    "matrix(0,0,[],1,2,0)"
   ]
  },
  {
   "cell_type": "code",
   "execution_count": null,
   "id": "30291677",
   "metadata": {},
   "outputs": [],
   "source": []
  },
  {
   "cell_type": "code",
   "execution_count": 47,
   "id": "af663206",
   "metadata": {},
   "outputs": [],
   "source": []
  },
  {
   "cell_type": "code",
   "execution_count": 48,
   "id": "c43414e6",
   "metadata": {},
   "outputs": [
    {
     "name": "stdout",
     "output_type": "stream",
     "text": [
      "[[0, 0, 0, 0], [0, 0, 0, 0], [0, 0, 0, 0], [0, 0, 0, 0]]\n",
      "[[1, 0, 0, 0], [0, 0, 0, 0], [0, 0, 0, 0], [0, 0, 0, 0]]\n"
     ]
    },
    {
     "ename": "TypeError",
     "evalue": "ratemaze() missing 1 required positional argument: 'visited'",
     "output_type": "error",
     "traceback": [
      "\u001b[1;31m---------------------------------------------------------------------------\u001b[0m",
      "\u001b[1;31mTypeError\u001b[0m                                 Traceback (most recent call last)",
      "\u001b[1;32m~\\AppData\\Local\\Temp\\ipykernel_8128\\2067260946.py\u001b[0m in \u001b[0;36m<module>\u001b[1;34m\u001b[0m\n\u001b[0;32m      4\u001b[0m     \u001b[0mvisited\u001b[0m\u001b[1;33m.\u001b[0m\u001b[0mappend\u001b[0m\u001b[1;33m(\u001b[0m\u001b[1;33m[\u001b[0m\u001b[1;36m0\u001b[0m\u001b[1;33m]\u001b[0m\u001b[1;33m*\u001b[0m\u001b[0mlen\u001b[0m\u001b[1;33m(\u001b[0m\u001b[0mmatrix\u001b[0m\u001b[1;33m)\u001b[0m\u001b[1;33m)\u001b[0m\u001b[1;33m\u001b[0m\u001b[1;33m\u001b[0m\u001b[0m\n\u001b[0;32m      5\u001b[0m \u001b[0mprint\u001b[0m\u001b[1;33m(\u001b[0m\u001b[0mvisited\u001b[0m\u001b[1;33m)\u001b[0m\u001b[1;33m\u001b[0m\u001b[1;33m\u001b[0m\u001b[0m\n\u001b[1;32m----> 6\u001b[1;33m \u001b[0mratmaze\u001b[0m\u001b[1;33m(\u001b[0m\u001b[1;36m0\u001b[0m\u001b[1;33m,\u001b[0m\u001b[1;36m0\u001b[0m\u001b[1;33m,\u001b[0m\u001b[1;34m''\u001b[0m\u001b[1;33m,\u001b[0m\u001b[1;36m4\u001b[0m\u001b[1;33m,\u001b[0m\u001b[0mmatrix\u001b[0m\u001b[1;33m,\u001b[0m\u001b[1;36m0\u001b[0m\u001b[1;33m,\u001b[0m\u001b[0mvisited\u001b[0m\u001b[1;33m)\u001b[0m\u001b[1;33m\u001b[0m\u001b[1;33m\u001b[0m\u001b[0m\n\u001b[0m",
      "\u001b[1;32m~\\AppData\\Local\\Temp\\ipykernel_8128\\3797156900.py\u001b[0m in \u001b[0;36mratmaze\u001b[1;34m(i, j, ds, n, matrix, count, visited)\u001b[0m\n\u001b[0;32m      7\u001b[0m         \u001b[0mvisited\u001b[0m\u001b[1;33m[\u001b[0m\u001b[0mi\u001b[0m\u001b[1;33m]\u001b[0m\u001b[1;33m[\u001b[0m\u001b[0mj\u001b[0m\u001b[1;33m]\u001b[0m\u001b[1;33m=\u001b[0m\u001b[1;36m1\u001b[0m\u001b[1;33m\u001b[0m\u001b[1;33m\u001b[0m\u001b[0m\n\u001b[0;32m      8\u001b[0m         \u001b[0mprint\u001b[0m\u001b[1;33m(\u001b[0m\u001b[0mvisited\u001b[0m\u001b[1;33m)\u001b[0m\u001b[1;33m\u001b[0m\u001b[1;33m\u001b[0m\u001b[0m\n\u001b[1;32m----> 9\u001b[1;33m         \u001b[0mratemaze\u001b[0m\u001b[1;33m(\u001b[0m\u001b[0mi\u001b[0m\u001b[1;33m+\u001b[0m\u001b[1;36m1\u001b[0m\u001b[1;33m,\u001b[0m\u001b[0mj\u001b[0m\u001b[1;33m,\u001b[0m\u001b[0mds\u001b[0m\u001b[1;33m+\u001b[0m\u001b[1;34m'D'\u001b[0m\u001b[1;33m,\u001b[0m\u001b[0mn\u001b[0m\u001b[1;33m,\u001b[0m\u001b[0mmatrix\u001b[0m\u001b[1;33m,\u001b[0m\u001b[0mcount\u001b[0m\u001b[1;33m,\u001b[0m\u001b[0mvisited\u001b[0m\u001b[1;33m)\u001b[0m\u001b[1;33m\u001b[0m\u001b[1;33m\u001b[0m\u001b[0m\n\u001b[0m\u001b[0;32m     10\u001b[0m         \u001b[0mvisited\u001b[0m\u001b[1;33m[\u001b[0m\u001b[0mi\u001b[0m\u001b[1;33m]\u001b[0m\u001b[1;33m[\u001b[0m\u001b[0mj\u001b[0m\u001b[1;33m]\u001b[0m\u001b[1;33m=\u001b[0m\u001b[1;36m0\u001b[0m\u001b[1;33m\u001b[0m\u001b[1;33m\u001b[0m\u001b[0m\n\u001b[0;32m     11\u001b[0m     \u001b[1;32mif\u001b[0m \u001b[0mi\u001b[0m\u001b[1;33m-\u001b[0m\u001b[1;36m1\u001b[0m\u001b[1;33m>=\u001b[0m\u001b[1;36m0\u001b[0m \u001b[1;32mand\u001b[0m \u001b[0mmatrix\u001b[0m\u001b[1;33m[\u001b[0m\u001b[0mi\u001b[0m\u001b[1;33m-\u001b[0m\u001b[1;36m1\u001b[0m\u001b[1;33m]\u001b[0m\u001b[1;33m[\u001b[0m\u001b[0mj\u001b[0m\u001b[1;33m]\u001b[0m\u001b[1;33m==\u001b[0m\u001b[1;36m1\u001b[0m \u001b[1;32mand\u001b[0m \u001b[1;32mnot\u001b[0m \u001b[0mvisited\u001b[0m\u001b[1;33m[\u001b[0m\u001b[0mi\u001b[0m\u001b[1;33m-\u001b[0m\u001b[1;36m1\u001b[0m\u001b[1;33m]\u001b[0m\u001b[1;33m[\u001b[0m\u001b[0mj\u001b[0m\u001b[1;33m]\u001b[0m\u001b[1;33m:\u001b[0m\u001b[1;33m\u001b[0m\u001b[1;33m\u001b[0m\u001b[0m\n",
      "\u001b[1;31mTypeError\u001b[0m: ratemaze() missing 1 required positional argument: 'visited'"
     ]
    }
   ],
   "source": []
  },
  {
   "cell_type": "markdown",
   "id": "ce6a90b5",
   "metadata": {},
   "source": [
    "## Rat in Maze"
   ]
  },
  {
   "cell_type": "code",
   "execution_count": 51,
   "id": "b3942f6b",
   "metadata": {},
   "outputs": [
    {
     "name": "stdout",
     "output_type": "stream",
     "text": [
      "DDRDRR DRDDRR \n"
     ]
    }
   ],
   "source": [
    "from typing import List\n",
    "class Solution:\n",
    "    def findPathHelper(self, i: int, j: int, a: List[List[int]], n: int, ans: List[str], move: str, vis: List[List[int]]):\n",
    "        if i == n - 1 and j == n - 1:\n",
    "            ans.append(move)\n",
    "            return\n",
    "        # downward\n",
    "        if i + 1 < n and not vis[i + 1][j] and a[i + 1][j] == 1:\n",
    "            vis[i][j] = 1\n",
    "            self.findPathHelper(i + 1, j, a, n, ans, move + 'D', vis)\n",
    "            vis[i][j] = 0\n",
    "        # left\n",
    "        if j - 1 >= 0 and not vis[i][j - 1] and a[i][j - 1] == 1:\n",
    "            vis[i][j] = 1\n",
    "            self.findPathHelper(i, j - 1, a, n, ans, move + 'L', vis)\n",
    "            vis[i][j] = 0\n",
    "        # right\n",
    "        if j + 1 < n and not vis[i][j + 1] and a[i][j + 1] == 1:\n",
    "            vis[i][j] = 1\n",
    "            self.findPathHelper(i, j + 1, a, n, ans, move + 'R', vis)\n",
    "            vis[i][j] = 0\n",
    "        # upward\n",
    "        if i - 1 >= 0 and not vis[i - 1][j] and a[i - 1][j] == 1:\n",
    "            vis[i][j] = 1\n",
    "            self.findPathHelper(i - 1, j, a, n, ans, move + 'U', vis)\n",
    "            vis[i][j] = 0\n",
    "    def findPath(self, m: List[List[int]], n: int) -> List[str]:\n",
    "        ans = []\n",
    "        vis = [[0 for _ in range(n)] for _ in range(n)]\n",
    "\n",
    "\n",
    "        if m[0][0] == 1:\n",
    "            self.findPathHelper(0, 0, m, n, ans, \"\", vis)\n",
    "        return ans\n",
    "\n",
    "\n",
    "\n",
    "\n",
    "if __name__ == '__main__':\n",
    "    n = 4\n",
    "\n",
    "\n",
    "    m = [[1, 0, 0, 0], [1, 1, 0, 1], [1, 1, 0, 0], [0, 1, 1, 1]]\n",
    "\n",
    "\n",
    "    obj = Solution()\n",
    "    result = obj.findPath(m, n)\n",
    "    if len(result) == 0:\n",
    "        print(-1)\n",
    "    else:\n",
    "        for i in range(len(result)):\n",
    "            print(result[i], end=\" \")\n",
    "    print()"
   ]
  },
  {
   "cell_type": "code",
   "execution_count": 52,
   "id": "ac3d58f0",
   "metadata": {},
   "outputs": [],
   "source": [
    "class Solution:\n",
    "    def findPath(self, m, n):\n",
    "        # code here\n",
    "\n",
    "        string='DURL'\n",
    "        ans=[]\n",
    "        di=[1,-1,0,0]\n",
    "        dj=[0,0,1,-1]\n",
    "        def findpaath(i,j,m,n,ds,visited):\n",
    "            if i==n-1 and j==n-1:\n",
    "                ans.append(ds)\n",
    "                return\n",
    "            \n",
    "            for k in range(4):\n",
    "                if (i+di[k]>=0 and j+dj[k]>=0)  and (i+di[k]<n and j+dj[k]<n) and not visited[i+di[k]][j+dj[k]] and m[i+di[k]][j+dj[k]]==1:\n",
    "                    visited[i][j]=1\n",
    "                    findpaath(i+di[k],j+dj[k],m,n,ds+string[k],visited)\n",
    "                    visited[i][j]=0\n",
    "        visited=[]\n",
    "        for i in range(n):\n",
    "            visited.append([0]*n)\n",
    "        if m[0][0]==1:\n",
    "            findpaath(0,0,m,n,'',visited)\n",
    "        return ans"
   ]
  },
  {
   "cell_type": "code",
   "execution_count": 67,
   "id": "820c6bc1",
   "metadata": {},
   "outputs": [
    {
     "data": {
      "text/plain": [
       "3"
      ]
     },
     "execution_count": 67,
     "metadata": {},
     "output_type": "execute_result"
    }
   ],
   "source": [
    "def perfectSum( arr, n, sum):\n",
    "    if n==0:\n",
    "        if sum==0:\n",
    "            return 1\n",
    "        else:\n",
    "            return 0\n",
    "    return perfectSum(arr,n-1,sum-arr[n-1])+perfectSum(arr,n-1,sum)\n",
    "perfectSum([2, 3, 5, 6 ,8, 10],6,10)"
   ]
  },
  {
   "cell_type": "markdown",
   "id": "8c34c690",
   "metadata": {},
   "source": [
    "## Combination SUm-1"
   ]
  },
  {
   "cell_type": "code",
   "execution_count": 70,
   "id": "c95aea78",
   "metadata": {},
   "outputs": [
    {
     "data": {
      "text/plain": [
       "[[2, 2, 3], [7]]"
      ]
     },
     "execution_count": 70,
     "metadata": {},
     "output_type": "execute_result"
    }
   ],
   "source": [
    "def combinationsum(arr,target):\n",
    "    ans=[]\n",
    "    n=len(arr)\n",
    "    def combination(ind,target,container):\n",
    "#         print(container)\n",
    "        if ind==n:\n",
    "            if target==0:\n",
    "                ans.append(container[:])\n",
    "            return\n",
    "        if arr[ind]<=target:\n",
    "            container.append(arr[ind])\n",
    "            combination(ind,target-arr[ind],container)\n",
    "            container.pop()\n",
    "        combination(ind+1,target,container)\n",
    "        \n",
    "        \n",
    "    combination(0,7,[])\n",
    "    return ans\n",
    "combinationsum([2,3,6,7],7)"
   ]
  },
  {
   "cell_type": "markdown",
   "id": "a1123a2a",
   "metadata": {},
   "source": [
    "## COMBINATION SUM-2"
   ]
  },
  {
   "cell_type": "code",
   "execution_count": 25,
   "id": "45938d73",
   "metadata": {},
   "outputs": [
    {
     "name": "stdout",
     "output_type": "stream",
     "text": [
      "[1, 1, 2]\n",
      "[2, 2]\n"
     ]
    },
    {
     "data": {
      "text/plain": [
       "[[1, 1, 2], [2, 2]]"
      ]
     },
     "execution_count": 25,
     "metadata": {},
     "output_type": "execute_result"
    }
   ],
   "source": [
    "def combinationsum2(arr,ind,ds,target,ans):\n",
    "    if target==0:\n",
    "        print(ds)\n",
    "        ans.append(ds[:])\n",
    "        return\n",
    "    for i in range(ind,len(arr)):\n",
    "        if i>ind and arr[i]==arr[i-1]:\n",
    "            continue\n",
    "        if arr[i]>target:\n",
    "            break\n",
    "            \n",
    "        ds.append(arr[i])\n",
    "        combinationsum2(arr,i+1,ds,target-arr[i],ans)\n",
    "        ds.pop()\n",
    "    return ans\n",
    "        \n",
    "ans=[]\n",
    "combinationsum2([1,1,1,2,2],0,[],4,[])"
   ]
  },
  {
   "cell_type": "code",
   "execution_count": 24,
   "id": "2ce89281",
   "metadata": {},
   "outputs": [
    {
     "name": "stdout",
     "output_type": "stream",
     "text": [
      "[1, 1, 2]\n",
      "[2, 2]\n",
      "\n"
     ]
    }
   ],
   "source": [
    "def combinationSum2(arr, target):\n",
    "    arr.sort()\n",
    "    def findCombination(ind: int, target: int,ds,candidates,ans):\n",
    "        if target == 0:\n",
    "            print(ds)\n",
    "            ans.append(ds[:])\n",
    "            return\n",
    "        for i in range(ind, len(candidates)):\n",
    "            if i > ind and candidates[i] == candidates[i - 1]:\n",
    "                continue\n",
    "            if candidates[i] > target:\n",
    "                break\n",
    "            ds.append(candidates[i])\n",
    "            findCombination(i + 1, target - candidates[i],ds,candidates,ans)\n",
    "            ds.pop()\n",
    "\n",
    "\n",
    "    findCombination(0, target,[],arr,[])\n",
    "    return ans\n",
    "if __name__ == \"__main__\":\n",
    "    v = [1,1,1,2,2]\n",
    "    comb = combinationSum2(v, 4)\n",
    "#     print(comb)\n",
    "    print(*comb)"
   ]
  },
  {
   "cell_type": "code",
   "execution_count": 42,
   "id": "f6543444",
   "metadata": {},
   "outputs": [
    {
     "data": {
      "text/plain": [
       "[[],\n",
       " [1],\n",
       " [1, 1],\n",
       " [1, 1, 1],\n",
       " [1, 1, 1, 2],\n",
       " [1, 1, 1, 2, 2],\n",
       " [1, 1, 1, 2, 2, 3],\n",
       " [1, 1, 1, 2, 3],\n",
       " [1, 1, 1, 3],\n",
       " [1, 1, 2],\n",
       " [1, 1, 2, 2],\n",
       " [1, 1, 2, 2, 3],\n",
       " [1, 1, 2, 3],\n",
       " [1, 1, 3],\n",
       " [1, 2],\n",
       " [1, 2, 2],\n",
       " [1, 2, 2, 3],\n",
       " [1, 2, 3],\n",
       " [1, 3],\n",
       " [2],\n",
       " [2, 2],\n",
       " [2, 2, 3],\n",
       " [2, 3],\n",
       " [3]]"
      ]
     },
     "execution_count": 42,
     "metadata": {},
     "output_type": "execute_result"
    }
   ],
   "source": [
    "    def subsetsum2(arr,n,ind,ds,ans):\n",
    "        ans.append(ds[:])\n",
    "        for i in range(ind,len(arr)):\n",
    "            if i>ind and arr[i]==arr[i-1]:\n",
    "                continue\n",
    "            ds.append(arr[i])\n",
    "            subsetsum2(arr,n,i+1,ds,ans)\n",
    "            ds.pop()\n",
    "        return ans\n",
    "subsetsum2([1,1,1,2,2,3],6,0,[],[])"
   ]
  },
  {
   "cell_type": "code",
   "execution_count": 44,
   "id": "27d11db8",
   "metadata": {},
   "outputs": [
    {
     "data": {
      "text/plain": [
       "[1, 2, 3]"
      ]
     },
     "execution_count": 44,
     "metadata": {},
     "output_type": "execute_result"
    }
   ],
   "source": [
    "arr=[i for i in range(1,4)]\n",
    "arr"
   ]
  },
  {
   "cell_type": "code",
   "execution_count": 45,
   "id": "3701902c",
   "metadata": {},
   "outputs": [
    {
     "name": "stdout",
     "output_type": "stream",
     "text": [
      "['a', 'b', 'c']\n",
      "['a', 'c', 'b']\n",
      "['b', 'a', 'c']\n",
      "['b', 'c', 'a']\n",
      "['c', 'b', 'a']\n",
      "['c', 'a', 'b']\n"
     ]
    }
   ],
   "source": [
    "def permutation(a,i=0):\n",
    "    if i==len(a)-1:\n",
    "        print(a)\n",
    "        return \n",
    "    for j in range(i,len(a)):\n",
    "        a[i],a[j]=a[j],a[i]\n",
    "        permutation(a,i+1)\n",
    "        a[i],a[j]=a[j],a[i]\n",
    "permutation(['a','b','c'],0)"
   ]
  },
  {
   "cell_type": "code",
   "execution_count": 48,
   "id": "8b0e41ac",
   "metadata": {},
   "outputs": [
    {
     "name": "stdout",
     "output_type": "stream",
     "text": [
      "['a', 'b', 'c']\n",
      "['a', 'c', 'b']\n",
      "['b', 'a', 'c']\n",
      "['b', 'c', 'a']\n",
      "['c', 'b', 'a']\n",
      "['c', 'a', 'b']\n"
     ]
    }
   ],
   "source": [
    "def permutation(a,i):\n",
    "    if i==len(a)-1:\n",
    "        print(a)\n",
    "    for j in range(i,len(a)):\n",
    "        a[i],a[j]=a[j],a[i]\n",
    "        permutation(a,i+1)\n",
    "        a[i],a[j]=a[j],a[i]\n",
    "permutation(['a','b','c'],0)"
   ]
  },
  {
   "cell_type": "code",
   "execution_count": 19,
   "id": "0d7db9e7",
   "metadata": {},
   "outputs": [
    {
     "data": {
      "text/plain": [
       "{'adg',\n",
       " 'adh',\n",
       " 'adi',\n",
       " 'aeg',\n",
       " 'aeh',\n",
       " 'aei',\n",
       " 'afg',\n",
       " 'afh',\n",
       " 'afi',\n",
       " 'bdg',\n",
       " 'bdh',\n",
       " 'bdi',\n",
       " 'beg',\n",
       " 'beh',\n",
       " 'bei',\n",
       " 'bfg',\n",
       " 'bfh',\n",
       " 'bfi',\n",
       " 'cdg',\n",
       " 'cdh',\n",
       " 'cdi',\n",
       " 'ceg',\n",
       " 'ceh',\n",
       " 'cei',\n",
       " 'cfg',\n",
       " 'cfh',\n",
       " 'cfi'}"
      ]
     },
     "execution_count": 19,
     "metadata": {},
     "output_type": "execute_result"
    }
   ],
   "source": [
    "class Solution:\n",
    "    def letterCombinations(self, digits) :\n",
    "        dic={'1':'','2':'abc','3':'def','4':'ghi','5':'jkl','6':'mno','7':'pqrs','8':'tuv','9':'wxyz'}\n",
    "        ans=set()\n",
    "        def backtrack(ind,digits,st):\n",
    "            if len(st)==len(digits):\n",
    "                ans.add(''.join(st))\n",
    "                return\n",
    "            string=dic[digits[ind]]\n",
    "            for j in range(len(string)):\n",
    "                st.append(string[j])\n",
    "                backtrack(ind+1,digits,st)\n",
    "                st.pop()\n",
    "        backtrack(0,digits,[])\n",
    "        return ans\n",
    "C=Solution()\n",
    "C.letterCombinations('234')"
   ]
  },
  {
   "cell_type": "code",
   "execution_count": 14,
   "id": "3780da98",
   "metadata": {},
   "outputs": [
    {
     "data": {
      "text/plain": [
       "'bcc'"
      ]
     },
     "execution_count": 14,
     "metadata": {},
     "output_type": "execute_result"
    }
   ],
   "source": [
    "st='abc'\n",
    "st+='c'\n",
    "st\n",
    "st=st.removeprefix('a')\n",
    "st"
   ]
  },
  {
   "cell_type": "code",
   "execution_count": 66,
   "id": "9e7ab406",
   "metadata": {},
   "outputs": [
    {
     "data": {
      "text/plain": [
       "4"
      ]
     },
     "execution_count": 66,
     "metadata": {},
     "output_type": "execute_result"
    }
   ],
   "source": [
    "l=[1,3,4]"
   ]
  },
  {
   "cell_type": "code",
   "execution_count": 26,
   "id": "8de92598",
   "metadata": {},
   "outputs": [
    {
     "data": {
      "text/plain": [
       "[['(', '(', '(', ')', ')', ')'],\n",
       " ['(', '(', ')', '(', ')', ')'],\n",
       " ['(', '(', ')', ')', '(', ')'],\n",
       " ['(', ')', '(', '(', ')', ')'],\n",
       " ['(', ')', '(', ')', '(', ')']]"
      ]
     },
     "execution_count": 26,
     "metadata": {},
     "output_type": "execute_result"
    }
   ],
   "source": [
    "#paranthesis\n",
    "def paranthisis(n,open,close,st,ans):\n",
    "    if open==close and open==n:\n",
    "        ans.append(st[:])\n",
    "        return\n",
    "    if open<n:\n",
    "        paranthisis(n,open+1,close,st+['('],ans)\n",
    "    if open>close:\n",
    "        paranthisis(n,open,close+1,st+[')'],ans)\n",
    "    return ans\n",
    "paranthisis(3,0,0,[],[])"
   ]
  },
  {
   "cell_type": "code",
   "execution_count": 28,
   "id": "6d951e36",
   "metadata": {},
   "outputs": [
    {
     "data": {
      "text/plain": [
       "[['(', '(', '(', ')', ')', ')'],\n",
       " ['(', '(', ')', '(', ')', ')'],\n",
       " ['(', '(', ')', ')', '(', ')'],\n",
       " ['(', ')', '(', '(', ')', ')'],\n",
       " ['(', ')', '(', ')', '(', ')']]"
      ]
     },
     "execution_count": 28,
     "metadata": {},
     "output_type": "execute_result"
    }
   ],
   "source": [
    "def paranthisis(n,open,close,st,ans):\n",
    "    if open==close and open==n:\n",
    "        ans.append(st[:])\n",
    "        return\n",
    "    if open<n:\n",
    "        st.append('(')\n",
    "        paranthisis(n,open+1,close,st,ans)\n",
    "        st.pop()\n",
    "    if open>close:\n",
    "        st.append(')')\n",
    "        paranthisis(n,open,close+1,st,ans)\n",
    "        st.pop()\n",
    "    return ans  \n",
    "paranthisis(3,0,0,[],[])"
   ]
  },
  {
   "cell_type": "code",
   "execution_count": 29,
   "id": "4110e276",
   "metadata": {},
   "outputs": [
    {
     "data": {
      "text/plain": [
       "['ABC', 'ACB', 'BAC', 'BCA', 'CAB', 'CBA']"
      ]
     },
     "execution_count": 29,
     "metadata": {},
     "output_type": "execute_result"
    }
   ],
   "source": [
    "l='ABC ACB BAC BCA CBA CAB'\n",
    "k=l.split()\n",
    "k.sort()\n",
    "k"
   ]
  },
  {
   "cell_type": "code",
   "execution_count": 35,
   "id": "61920e75",
   "metadata": {},
   "outputs": [
    {
     "data": {
      "text/plain": [
       "{'ABC', 'ACB', 'BAC', 'BCA', 'CAB', 'CBA'}"
      ]
     },
     "execution_count": 35,
     "metadata": {},
     "output_type": "execute_result"
    }
   ],
   "source": [
    "a=set()\n",
    "d='CBA CAB ACB BCA BAC ABC'\n",
    "a=set(d.split())\n",
    "a"
   ]
  },
  {
   "cell_type": "code",
   "execution_count": 37,
   "id": "362b5bc8",
   "metadata": {},
   "outputs": [],
   "source": [
    "    def find_permutation(S):\n",
    "        ans=set()\n",
    "        def permutation(nums,ind):\n",
    "            if ind==len(nums)-1:\n",
    "                ans.add(''.join(nums))\n",
    "                return\n",
    "            for j in range(ind,len(nums)):\n",
    "                # if j>ind and nums[j]==nums[j-1]:\n",
    "                #     continue\n",
    "                nums[ind],nums[j]=nums[j],nums[ind]\n",
    "                permutation(nums,ind+1)\n",
    "                nums[ind],nums[j]=nums[j],nums[ind]\n",
    "        nums=list(S)\n",
    "        permutation(nums,0)\n",
    "        # ans.sort()\n",
    "        return ans"
   ]
  },
  {
   "cell_type": "code",
   "execution_count": 40,
   "id": "ef49a082",
   "metadata": {},
   "outputs": [
    {
     "data": {
      "text/plain": [
       "['ABC', 'BAC', 'CAB', 'BCA', 'CBA', 'ACB']"
      ]
     },
     "execution_count": 40,
     "metadata": {},
     "output_type": "execute_result"
    }
   ],
   "source": [
    "list(find_permutation('ABC'))"
   ]
  }
 ],
 "metadata": {
  "kernelspec": {
   "display_name": "Python 3 (ipykernel)",
   "language": "python",
   "name": "python3"
  },
  "language_info": {
   "codemirror_mode": {
    "name": "ipython",
    "version": 3
   },
   "file_extension": ".py",
   "mimetype": "text/x-python",
   "name": "python",
   "nbconvert_exporter": "python",
   "pygments_lexer": "ipython3",
   "version": "3.9.13"
  }
 },
 "nbformat": 4,
 "nbformat_minor": 5
}
